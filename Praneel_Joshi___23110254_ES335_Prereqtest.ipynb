{
  "nbformat": 4,
  "nbformat_minor": 0,
  "metadata": {
    "colab": {
      "provenance": [],
      "authorship_tag": "ABX9TyPyBMEkp4BodBJGcnBNtfe1",
      "include_colab_link": true
    },
    "kernelspec": {
      "name": "python3",
      "display_name": "Python 3"
    },
    "language_info": {
      "name": "python"
    }
  },
  "cells": [
    {
      "cell_type": "markdown",
      "metadata": {
        "id": "view-in-github",
        "colab_type": "text"
      },
      "source": [
        "<a href=\"https://colab.research.google.com/github/PraneelUJ/ES335_Prereq_test/blob/main/Praneel_Joshi___23110254_ES335_Prereqtest.ipynb\" target=\"_parent\"><img src=\"https://colab.research.google.com/assets/colab-badge.svg\" alt=\"Open In Colab\"/></a>"
      ]
    },
    {
      "cell_type": "markdown",
      "source": [
        "$$ Name: Praneel \\ Joshi $$\n",
        "$$ Rollno: 23110254 $$\n"
      ],
      "metadata": {
        "id": "yhCLXl2Do8VR"
      }
    },
    {
      "cell_type": "markdown",
      "source": [
        "Q1\n",
        " How many multiplications and additions do you need to perform a matrix multiplication between a (n, k) and (k, m) matrix? Explain.\n"
      ],
      "metadata": {
        "id": "azjz7SiWTUG9"
      }
    },
    {
      "cell_type": "markdown",
      "source": [
        "Soln: \\\n",
        " The total multiplications needed are:\n",
        "$$\n",
        "n × m × k\n",
        "$$\n",
        "This is because when we multiply two matrices of dimension (n×k) and (k×m) we find the dot product of every row of first matrix and first column of 2nd matrix, so the number of products are n×m and there are k such operations so it takes n×m×k total multiplications.\n",
        "\\\n",
        "\\\n",
        "The total additions needed are :\n",
        "$$\n",
        " n × m × (k - 1)\n",
        "$$\n",
        "This is because we need to add k numbers to each other and it takes k-1 additions per vector pair."
      ],
      "metadata": {
        "id": "myIaxNkSTYR6"
      }
    },
    {
      "cell_type": "markdown",
      "source": [
        "Q2 Write Python code to multiply the above two matrices. Solve using list of lists and then use numpy. Compare the timing of both solutions. Which one is faster? Why?"
      ],
      "metadata": {
        "id": "POy3VC3wWlVN"
      }
    },
    {
      "cell_type": "markdown",
      "source": [
        "using python list"
      ],
      "metadata": {
        "id": "UugPuFdOWok6"
      }
    },
    {
      "cell_type": "code",
      "source": [
        "import time\n",
        "A=[[1,2,3],[4,5,6],[7,8,9]]\n",
        "B=[[2,4,6],[8,10,12],[1,2,3]]\n",
        "n=3\n",
        "m=3\n",
        "k=3\n",
        "start=time.time()\n",
        "C=[[0 for _ in range(m)]for _ in range(n)]\n",
        "for i in range(n):\n",
        "  for j in range(m):\n",
        "    for p in range(k):\n",
        "      C[i][j]+=A[i][p]*B[p][j]\n",
        "end=time.time()\n",
        "print(\"The time taken to multiply two matrices\\n using python list is: \", end-start)\n",
        "\n"
      ],
      "metadata": {
        "colab": {
          "base_uri": "https://localhost:8080/"
        },
        "id": "k-RqiJpTWrtS",
        "outputId": "a00b7d45-a0fd-45b2-9fb8-ca1531253ac0"
      },
      "execution_count": null,
      "outputs": [
        {
          "output_type": "stream",
          "name": "stdout",
          "text": [
            "The time taken to multiply two matrices\n",
            " using python list is:  0.00021147727966308594\n"
          ]
        }
      ]
    },
    {
      "cell_type": "code",
      "source": [
        "import numpy as np\n",
        "npa=np.array(A)\n",
        "npb=np.array(B)\n",
        "D=[[0 for _ in range(m)]for _ in range(n)]\n",
        "npd=np.array(D)\n",
        "start=time.time()\n",
        "for i in range(n):\n",
        "  for j in range(m):\n",
        "    for p in range(k):\n",
        "      npd[i][j]+=npa[i][p]*npb[p][j]\n",
        "end=time.time()\n",
        "print(\"The time taken to multiply two matrices\\n using python list is: \", end-start)"
      ],
      "metadata": {
        "colab": {
          "base_uri": "https://localhost:8080/"
        },
        "id": "vrXGLGLUXw4X",
        "outputId": "fbb95433-0c21-420a-b8a0-c3e452e69337"
      },
      "execution_count": null,
      "outputs": [
        {
          "output_type": "stream",
          "name": "stdout",
          "text": [
            "The time taken to multiply two matrices\n",
            " using python list is:  0.0001685619354248047\n"
          ]
        }
      ]
    },
    {
      "cell_type": "markdown",
      "source": [
        "The multiplication by python numpy arrays is faster than python lists as numpy arrays as compiled C code which is fast."
      ],
      "metadata": {
        "id": "6QiL2NlfYhDA"
      }
    },
    {
      "cell_type": "markdown",
      "source": [
        "Q3 Finding the highest element in a list requires one pass of the array. Finding the second highest element requires 2 passes of the array. Using this method, what is the time complexity of finding the median of the array? Can you suggest a better method? Can you implement both these methods in Python and compare against numpy.median routine in terms of time?"
      ],
      "metadata": {
        "id": "V-PbmYZvYwfr"
      }
    },
    {
      "cell_type": "markdown",
      "source": [
        "This method is similar to bubble sort algorithm in which in the first pass we find the highest number, then 2nd highest and so on. The time complexity of this is\n",
        "$$ O(N^2) $$\n",
        "and here is the implementation of bubble sort."
      ],
      "metadata": {
        "id": "J3RDl83zONam"
      }
    },
    {
      "cell_type": "code",
      "source": [
        "import time\n",
        "l=[3,2,5,9,1,0,-1]\n",
        "n=7\n",
        "start=time.time()\n",
        "for i in range(n):\n",
        "  for j in range(i+1,n):\n",
        "    if l[i]>l[j]:\n",
        "      l[i],l[j]=l[j],l[i]\n",
        "end=time.time()\n",
        "print(f'The median of the array is {l[n//2]}')\n",
        "print(f\"The time needed to perform the operation is {end-start}\")"
      ],
      "metadata": {
        "colab": {
          "base_uri": "https://localhost:8080/"
        },
        "id": "1kN3XsuSPOPZ",
        "outputId": "d4044323-f8f0-4067-8d92-f6c2f3d6b264"
      },
      "execution_count": null,
      "outputs": [
        {
          "output_type": "stream",
          "name": "stdout",
          "text": [
            "The median of the array is 2\n",
            "The time needed to perform the operation is 0.0001232624053955078\n"
          ]
        }
      ]
    },
    {
      "cell_type": "markdown",
      "source": [
        "A better method can be using the inbuilt sort method of python as it takes a time complexity of $$ O(NlogN) $$\n",
        "or we can also implement merge sort method whose time complexity is also the same."
      ],
      "metadata": {
        "id": "qeDvmZadPxFZ"
      }
    },
    {
      "cell_type": "code",
      "source": [
        "l=[3,2,5,9,1,0,-1]\n",
        "start=time.time()\n",
        "l.sort()\n",
        "end=time.time()\n",
        "print(f'The median of the array is {l[n//2]}')\n",
        "print(f\"The time needed to perform the operation is {end-start}\")"
      ],
      "metadata": {
        "colab": {
          "base_uri": "https://localhost:8080/"
        },
        "id": "IRzS5Wm7Qf5X",
        "outputId": "7d2dc2aa-844a-40e9-8b44-40e1c94926b4"
      },
      "execution_count": null,
      "outputs": [
        {
          "output_type": "stream",
          "name": "stdout",
          "text": [
            "The median of the array is 2\n",
            "The time needed to perform the operation is 5.221366882324219e-05\n"
          ]
        }
      ]
    },
    {
      "cell_type": "code",
      "source": [
        "import numpy as np\n",
        "npl=np.array(l)\n",
        "start=time.time()\n",
        "np.median(npl)\n",
        "end=time.time()\n",
        "print(f\"The time needed for the given operation is {end-start}\")"
      ],
      "metadata": {
        "colab": {
          "base_uri": "https://localhost:8080/"
        },
        "id": "fbUAXQ1eQnVv",
        "outputId": "d75423bb-c622-42b9-fa53-1bd844d52d89"
      },
      "execution_count": null,
      "outputs": [
        {
          "output_type": "stream",
          "name": "stdout",
          "text": [
            "The time needed for the given operation is 0.00021600723266601562\n"
          ]
        }
      ]
    },
    {
      "cell_type": "markdown",
      "source": [
        "Q4 What is the gradient of the following function with respect to x and y?\n",
        " $$ x^2y + y^3sin(x) $$"
      ],
      "metadata": {
        "id": "PWuzuWDSREwZ"
      }
    },
    {
      "cell_type": "markdown",
      "source": [
        "$The \\ gradient \\ of $\n",
        "$$f = x^2y + y^3sin(x) $$ $with \\ respect \\ to \\ x \\ is $\n",
        "$$ 2xy+y^3cosx$$"
      ],
      "metadata": {
        "id": "PdmbczS-RL_o"
      }
    },
    {
      "cell_type": "markdown",
      "source": [
        "$The \\ gradient \\ of $\n",
        "$$f = x^2y + y^3sin(x) $$ $with \\ respect \\ to \\ y \\ is $\n",
        "$$ x^2 + 3y^2sin(x)$$"
      ],
      "metadata": {
        "id": "0N3lhGN2SGZb"
      }
    },
    {
      "cell_type": "markdown",
      "source": [
        "Q5 Use JAX to confirm the gradient evaluated by your method matches the analytical solution corresponding to a few random values of x and y\n",
        "\n"
      ],
      "metadata": {
        "id": "H30JI6pOTK18"
      }
    },
    {
      "cell_type": "code",
      "source": [
        "import numpy as np\n",
        "import jax.numpy as jnp\n",
        "from jax import grad\n",
        "\n",
        "def jaxgrad(x, y):\n",
        "    return (x * x * y) + (y * y * y) * jnp.sin(x)\n",
        "\n",
        "def gradf(x, y):\n",
        "    delx = (2 * x * y) + (y * y * y * jnp.cos(x))\n",
        "    dely = (x * x) + (3 * y * y * jnp.sin(x))\n",
        "    return delx, dely\n",
        "\n",
        "f = grad(jaxgrad, argnums=(0, 1))  # returns (df/dx, df/dy)\n",
        "\n",
        "\n"
      ],
      "metadata": {
        "colab": {
          "base_uri": "https://localhost:8080/"
        },
        "id": "TexRbFMZTN4R",
        "outputId": "a8f51c9a-b16f-4b46-fd8e-69398d56eabb"
      },
      "execution_count": null,
      "outputs": [
        {
          "output_type": "stream",
          "name": "stdout",
          "text": [
            "Case 1 : x=1, y=0.5\n",
            "Output by JAX : (df/dx, df/dy) = (1.067537784576416, 1.631103277206421)\n",
            "Analytic       : (df/dx, df/dy) = (1.067537784576416, 1.631103277206421)\n"
          ]
        }
      ]
    },
    {
      "cell_type": "code",
      "source": [
        "print(\"Case 1 : x=1, y=0.5\")\n",
        "jaxx, jaxy = f(1.0, 0.5)\n",
        "dx, dy = gradf(1.0, 0.5)\n",
        "print(f\"Gradient by JAX     = ({jaxx}, {jaxy})\")\n",
        "print(f\"Gradient by gradf   = ({dx}, {dy})\")\n",
        "print(\"-------------------------------\")\n",
        "print(\"Case 2 : x=10, y=100.5\")\n",
        "jaxx, jaxy = f(10.0, 100.5)\n",
        "dx, dy = gradf(10.0, 100.5)\n",
        "print(f\"Gradient by JAX     = ({jaxx}, {jaxy})\")\n",
        "print(f\"Gradient by gradf   = ({dx}, {dy})\")"
      ],
      "metadata": {
        "colab": {
          "base_uri": "https://localhost:8080/"
        },
        "id": "Psnyobu5ULYr",
        "outputId": "0a140405-54d3-49c6-f84b-4cfc31168c05"
      },
      "execution_count": null,
      "outputs": [
        {
          "output_type": "stream",
          "name": "stdout",
          "text": [
            "Case 1 : x=1, y=0.5\n",
            "Gradient by JAX     = (1.067537784576416, 1.631103277206421)\n",
            "Gradient by gradf   = (1.067537784576416, 1.631103277206421)\n",
            "-------------------------------\n",
            "Case 2 : x=10, y=100.5\n",
            "Gradient by JAX     = (-849710.625, -16384.24609375)\n",
            "Gradient by gradf   = (-849710.625, -16384.248046875)\n"
          ]
        }
      ]
    },
    {
      "cell_type": "markdown",
      "source": [
        "Q6 Use sympy to confirm that you obtain the same gradient analytically."
      ],
      "metadata": {
        "id": "ACZgU4sCWCIX"
      }
    },
    {
      "cell_type": "code",
      "source": [
        "import sympy as sp\n",
        "x,y = sp.symbols(\"x y\")\n",
        "sp.init_printing()\n",
        "f=(x**2)*y + (y**3)*(sp.sin(x))\n"
      ],
      "metadata": {
        "id": "wDc-VrWwWEjk"
      },
      "execution_count": null,
      "outputs": []
    },
    {
      "cell_type": "code",
      "source": [
        "print(f\"Function before finding gradient is\")\n",
        "display(f)\n",
        "print(\"Gradient wrt to x\")\n",
        "display(sp.diff(f,x))\n",
        "print(\"Gradient wrt to y\")\n",
        "display(sp.diff(f,y))"
      ],
      "metadata": {
        "colab": {
          "base_uri": "https://localhost:8080/",
          "height": 135
        },
        "id": "uh_OmtcQWZnt",
        "outputId": "8829b74e-a57e-403e-e6c9-3a8e3c380fa5"
      },
      "execution_count": null,
      "outputs": [
        {
          "output_type": "stream",
          "name": "stdout",
          "text": [
            "Function before finding gradient is\n"
          ]
        },
        {
          "output_type": "display_data",
          "data": {
            "text/plain": [
              " 2      3       \n",
              "x ⋅y + y ⋅sin(x)"
            ],
            "text/latex": "$\\displaystyle x^{2} y + y^{3} \\sin{\\left(x \\right)}$"
          },
          "metadata": {}
        },
        {
          "output_type": "stream",
          "name": "stdout",
          "text": [
            "Gradient wrt to x\n"
          ]
        },
        {
          "output_type": "display_data",
          "data": {
            "text/plain": [
              "         3       \n",
              "2⋅x⋅y + y ⋅cos(x)"
            ],
            "text/latex": "$\\displaystyle 2 x y + y^{3} \\cos{\\left(x \\right)}$"
          },
          "metadata": {}
        },
        {
          "output_type": "stream",
          "name": "stdout",
          "text": [
            "Gradient wrt to y\n"
          ]
        },
        {
          "output_type": "display_data",
          "data": {
            "text/plain": [
              " 2      2       \n",
              "x  + 3⋅y ⋅sin(x)"
            ],
            "text/latex": "$\\displaystyle x^{2} + 3 y^{2} \\sin{\\left(x \\right)}$"
          },
          "metadata": {}
        }
      ]
    },
    {
      "cell_type": "markdown",
      "source": [
        "This confirms that the gradient calculated manually and by JAX and sympy are the same"
      ],
      "metadata": {
        "id": "CgZvczx9Wv0V"
      }
    },
    {
      "cell_type": "markdown",
      "source": [
        "Q7 Create a Python nested dictionary to represent hierarchical information. We want to store record of students and their marks."
      ],
      "metadata": {
        "id": "urH6n_RqW49W"
      }
    },
    {
      "cell_type": "code",
      "source": [
        "mydata={2022:{},2023:{},2024:{},2025:{}}\n",
        "for i in mydata:\n",
        "  mydata[i]={\"Branch 1\":{},\"Branch 2\":{}}\n",
        "  for branch in mydata[i]:\n",
        "    for j in range(1,15):\n",
        "      mydata[i][branch][j]={\"ROllno\":j,\"Name\":None,\"Marks\":{\"Maths\":None,\"Science\":None,\"English\":None}}\n"
      ],
      "metadata": {
        "id": "iLhDvIB2XNVT"
      },
      "execution_count": null,
      "outputs": []
    },
    {
      "cell_type": "code",
      "source": [
        "mydata[2022][\"Branch 1\"][1][\"Name\"]=\"John\"\n",
        "mydata[2022][\"Branch 1\"][1][\"Marks\"]={\"Maths\":97,\"Science\":98,\"English\":95}"
      ],
      "metadata": {
        "id": "9Op6FZTZYOme"
      },
      "execution_count": null,
      "outputs": []
    },
    {
      "cell_type": "code",
      "source": [
        "print(mydata[2022][\"Branch 1\"][1])"
      ],
      "metadata": {
        "colab": {
          "base_uri": "https://localhost:8080/"
        },
        "id": "U3HWT6x1Yo7E",
        "outputId": "aa54455c-09ad-4aad-9471-388a35f63042"
      },
      "execution_count": null,
      "outputs": [
        {
          "output_type": "stream",
          "name": "stdout",
          "text": [
            "{'ROllno': 1, 'Name': 'John', 'Marks': {'Maths': 97, 'Science': 98, 'English': 95}}\n"
          ]
        }
      ]
    },
    {
      "cell_type": "markdown",
      "source": [
        "Q8 Store the same information using Python classes. We have an overall database which is a list of year objects. Each year contains a list of branches. Each branch contains a list of students. Each student has some properties like name, roll number and has marks in some subjects."
      ],
      "metadata": {
        "id": "UqvIvxXXfbuD"
      }
    },
    {
      "cell_type": "code",
      "source": [
        "import numpy as np\n",
        "\n",
        "class Student:\n",
        "    def __init__(self, rollno, name, math=None, science=None, english=None):\n",
        "        self.rollno = rollno\n",
        "        self.name = name\n",
        "        self.math = math\n",
        "        self.science = science\n",
        "        self.english = english\n",
        "\n",
        "    def printdetails(self):\n",
        "        print(f\"Rollno: {self.rollno}\")\n",
        "        print(f\"Name: {self.name}\")\n",
        "        print(f\"Maths: {self.math}\")\n",
        "        print(f\"Science: {self.science}\")\n",
        "        print(f\"English: {self.english}\")\n",
        "\n",
        "class Branch:\n",
        "    def __init__(self, branch, student_list):\n",
        "        self.branch = branch\n",
        "        self.student_list = student_list\n",
        "\n",
        "class Year:\n",
        "    def __init__(self, year, branch_list):\n",
        "        self.year = year\n",
        "        self.branch_list = branch_list\n",
        "\n",
        "class Database:\n",
        "    def __init__(self, year_list):\n",
        "        self.year = year_list\n",
        "\n",
        "\n"
      ],
      "metadata": {
        "id": "H0AikCUyferj"
      },
      "execution_count": 5,
      "outputs": []
    },
    {
      "cell_type": "code",
      "source": [
        "data = Database([\n",
        "    Year(2020, []), Year(2021, []), Year(2022, []),\n",
        "    Year(2023, []), Year(2024, []), Year(2025, [])\n",
        "])\n",
        "\n",
        "for y in data.year:\n",
        "    y.branch_list = [Branch(1, []), Branch(2, [])]\n",
        "    for branch in y.branch_list:\n",
        "        branch.student_list = [\n",
        "            Student(rollno, f\"Name {rollno}\", np.random.randint(10,101), np.random.randint(10,101), np.random.randint(10,101))\n",
        "            for rollno in range(1, 11)\n",
        "        ]\n"
      ],
      "metadata": {
        "id": "hqDZ3gDGhUbJ"
      },
      "execution_count": 7,
      "outputs": []
    },
    {
      "cell_type": "code",
      "source": [
        "data.year[1].branch_list[1].student_list[2].printdetails()"
      ],
      "metadata": {
        "colab": {
          "base_uri": "https://localhost:8080/"
        },
        "id": "hrExDKKzjHES",
        "outputId": "0aee28fb-72a4-465c-a971-14d347c1a03b"
      },
      "execution_count": 9,
      "outputs": [
        {
          "output_type": "stream",
          "name": "stdout",
          "text": [
            "Rollno: 3\n",
            "Name: Name 3\n",
            "Maths: 88\n",
            "Science: 80\n",
            "English: 11\n"
          ]
        }
      ]
    },
    {
      "cell_type": "markdown",
      "source": [
        "Q9 Using matplotlib plot the following functions on the domain: x = 0.5 to 100.0 in steps of 0.5.\n",
        "\n",
        "![image.png](data:image/png;base64,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)"
      ],
      "metadata": {
        "id": "dOapVo3zYxQi"
      }
    },
    {
      "cell_type": "code",
      "source": [
        "x = np.arange(0.5, 100.5, 0.5)"
      ],
      "metadata": {
        "id": "9h09SzgQY8-h"
      },
      "execution_count": null,
      "outputs": []
    },
    {
      "cell_type": "markdown",
      "source": [
        "1. $$ y=x$$"
      ],
      "metadata": {
        "id": "IehP2NlYZNcG"
      }
    },
    {
      "cell_type": "code",
      "source": [
        "import matplotlib.pyplot as plt\n",
        "y=x\n",
        "plt.plot(x,y)\n",
        "plt.xlabel(\"X values\")\n",
        "plt.ylabel(\"Y values\")\n",
        "plt.title(\"Plotting y=x\")\n",
        "plt.show()"
      ],
      "metadata": {
        "colab": {
          "base_uri": "https://localhost:8080/",
          "height": 472
        },
        "id": "HtCacmKaZMtv",
        "outputId": "77f53a9c-c8f0-4325-f04d-01864a132a53"
      },
      "execution_count": null,
      "outputs": [
        {
          "output_type": "display_data",
          "data": {
            "text/plain": [
              "<Figure size 640x480 with 1 Axes>"
            ],
            "image/png": "[encoded data removed]"
          },
          "metadata": {}
        }
      ]
    },
    {
      "cell_type": "markdown",
      "source": [
        "2. $$y=x^2$$"
      ],
      "metadata": {
        "id": "Gof3QB6JZpOo"
      }
    },
    {
      "cell_type": "code",
      "source": [
        "y=x**2\n",
        "plt.plot(x,y)\n",
        "plt.xlabel(\"X values\")\n",
        "plt.ylabel(\"Y values\")\n",
        "plt.title(\"Plotting y=$x^2$\")\n",
        "plt.show()\n"
      ],
      "metadata": {
        "colab": {
          "base_uri": "https://localhost:8080/",
          "height": 476
        },
        "id": "udGbeab5Zrur",
        "outputId": "cf43f5ab-5727-423a-8113-ed44b5929060"
      },
      "execution_count": null,
      "outputs": [
        {
          "output_type": "display_data",
          "data": {
            "text/plain": [
              "<Figure size 640x480 with 1 Axes>"
            ],
            "image/png": "[encoded data removed]"
          },
          "metadata": {}
        }
      ]
    },
    {
      "cell_type": "markdown",
      "source": [
        "3. $$y=x^3/100$$"
      ],
      "metadata": {
        "id": "PqhzEo6QZzXK"
      }
    },
    {
      "cell_type": "code",
      "source": [
        "y=(x**3)/100\n",
        "plt.plot(x,y)\n",
        "plt.xlabel(\"X values\")\n",
        "plt.ylabel(\"Y values\")\n",
        "plt.title(\"Plotting y=$x^3/100$\")\n",
        "plt.show()"
      ],
      "metadata": {
        "colab": {
          "base_uri": "https://localhost:8080/",
          "height": 476
        },
        "id": "ehsxEa6ZZy30",
        "outputId": "f15050d0-2510-4b76-af4a-17f7be32fe0c"
      },
      "execution_count": null,
      "outputs": [
        {
          "output_type": "display_data",
          "data": {
            "text/plain": [
              "<Figure size 640x480 with 1 Axes>"
            ],
            "image/png": "[encoded data removed]"
          },
          "metadata": {}
        }
      ]
    },
    {
      "cell_type": "markdown",
      "source": [
        "4. $$y=sin(x)$$"
      ],
      "metadata": {
        "id": "A13gtTt2Z_sO"
      }
    },
    {
      "cell_type": "code",
      "source": [
        "y=np.sin(x)\n",
        "plt.plot(x,y)\n",
        "plt.xlabel(\"X values\")\n",
        "plt.ylabel(\"Y values\")\n",
        "plt.title(\"Plotting y=$sin(x)$\")\n",
        "plt.show()"
      ],
      "metadata": {
        "colab": {
          "base_uri": "https://localhost:8080/",
          "height": 474
        },
        "id": "Z5Y88cLeaEJN",
        "outputId": "a5aaefd1-24aa-4497-e8f3-0c2c089c82a7"
      },
      "execution_count": null,
      "outputs": [
        {
          "output_type": "display_data",
          "data": {
            "text/plain": [
              "<Figure size 640x480 with 1 Axes>"
            ],
            "image/png": "[encoded data removed]"
          },
          "metadata": {}
        }
      ]
    },
    {
      "cell_type": "markdown",
      "source": [
        "5. $$y=sin(x)/x$$"
      ],
      "metadata": {
        "id": "YV10qIOUaNyW"
      }
    },
    {
      "cell_type": "code",
      "source": [
        "y=np.sin(x)/x\n",
        "plt.plot(x,y)\n",
        "plt.xlabel(\"X values\")\n",
        "plt.ylabel(\"Y values\")\n",
        "plt.title(\"Plotting y=$sin(x)/x$\")\n",
        "plt.show()"
      ],
      "metadata": {
        "colab": {
          "base_uri": "https://localhost:8080/",
          "height": 474
        },
        "id": "DjzcwhpNaShg",
        "outputId": "acb3733d-d448-466d-d811-66f8b4deb411"
      },
      "execution_count": null,
      "outputs": [
        {
          "output_type": "display_data",
          "data": {
            "text/plain": [
              "<Figure size 640x480 with 1 Axes>"
            ],
            "image/png": "[encoded data removed]"
          },
          "metadata": {}
        }
      ]
    },
    {
      "cell_type": "markdown",
      "source": [
        "6. $$y=log(x)$$"
      ],
      "metadata": {
        "id": "8JHfxjkDaXuN"
      }
    },
    {
      "cell_type": "code",
      "source": [
        "y=np.log(x)\n",
        "plt.plot(x,y)\n",
        "plt.xlabel(\"X values\")\n",
        "plt.ylabel(\"Y values\")\n",
        "plt.title(\"Plotting y=$log(x)$\")\n",
        "plt.show()"
      ],
      "metadata": {
        "colab": {
          "base_uri": "https://localhost:8080/",
          "height": 474
        },
        "id": "adxQK2_haaQB",
        "outputId": "4e264876-3625-4684-fb9f-7ddeed59ff28"
      },
      "execution_count": null,
      "outputs": [
        {
          "output_type": "display_data",
          "data": {
            "text/plain": [
              "<Figure size 640x480 with 1 Axes>"
            ],
            "image/png": "[encoded data removed]"
          },
          "metadata": {}
        }
      ]
    },
    {
      "cell_type": "markdown",
      "source": [
        "7. $$y=e^x$$"
      ],
      "metadata": {
        "id": "0Yyl3C_lag8V"
      }
    },
    {
      "cell_type": "code",
      "source": [
        "y=np.exp(x)\n",
        "plt.plot(x,y)\n",
        "plt.xlabel(\"X values\")\n",
        "plt.ylabel(\"Y values\")\n",
        "plt.title(\"Plotting y=$e^x$\")\n",
        "plt.show()"
      ],
      "metadata": {
        "colab": {
          "base_uri": "https://localhost:8080/",
          "height": 474
        },
        "id": "lqexXc7waj1R",
        "outputId": "40d835c1-48e2-453a-e40d-bf46ff1cfc14"
      },
      "execution_count": null,
      "outputs": [
        {
          "output_type": "display_data",
          "data": {
            "text/plain": [
              "<Figure size 640x480 with 1 Axes>"
            ],
            "image/png": "[encoded data removed]"
          },
          "metadata": {}
        }
      ]
    },
    {
      "cell_type": "markdown",
      "source": [
        "Q10 Using numpy generate a matrix of size 20X5 containing random numbers drawn uniformly from the range of 1 to 2. Using Pandas create a dataframe out of this matrix. Name the columns of the dataframe as “a”, “b”, “c”, “d”, “e”. Find the column with the highest standard deviation. Find the row with the lowest mean."
      ],
      "metadata": {
        "id": "S0PX2mb0jRFF"
      }
    },
    {
      "cell_type": "code",
      "source": [
        "import pandas as pd\n",
        "import numpy as np"
      ],
      "metadata": {
        "id": "eXH9FPxMjUo5"
      },
      "execution_count": 10,
      "outputs": []
    },
    {
      "cell_type": "code",
      "source": [
        "matrix=np.random.randint(1,20,(20,5))\n",
        "df=pd.DataFrame(matrix)\n",
        "df.rename(columns={0:'a',1:'b',2:'c',3:'d',4:'e'},inplace=True)\n",
        "cols=df.columns\n",
        "a = [np.std(np.array(df[cols[i]])) for i in range(len(cols))]\n",
        "mean = np.array(df.mean(axis=1))\n",
        "print(f\"The column with maximum std is: {cols[np.argmax(a)]}, with a std of: {np.max(a)}\")\n",
        "print(f\"The row with the minimum mean is {np.argmin(mean)}, with a mean of {min(mean)}\")"
      ],
      "metadata": {
        "colab": {
          "base_uri": "https://localhost:8080/"
        },
        "id": "pzfy5g5pj_MH",
        "outputId": "42e2bc82-ef89-41c0-8970-29b363175db3"
      },
      "execution_count": 15,
      "outputs": [
        {
          "output_type": "stream",
          "name": "stdout",
          "text": [
            "The column with maximum std is: d, with a std of: 6.147153812944654\n",
            "The row with the minimum mean is 17, with a mean of 3.8\n"
          ]
        }
      ]
    },
    {
      "cell_type": "markdown",
      "source": [
        "Q11 Add a new column to the dataframe called “f” which is the sum of the columns “a”, “b”, “c”, “d”, “e”. Create another column called “g”. The value in the column “g” should be “LT8” if the value in the column “f” is less than 8 and “GT8” otherwise. Find the number of rows in the dataframe where the value in the column “g” is “LT8”. Find the standard deviation of the column “f” for the rows where the value in the column “g” is “LT8” and “GT8” respectively."
      ],
      "metadata": {
        "id": "flpY_Rjhk0ix"
      }
    },
    {
      "cell_type": "code",
      "source": [
        "df['f']=df['a']+df['b']+df['c']+df['d']+df['e']\n"
      ],
      "metadata": {
        "id": "lMjiQowSl5Cj"
      },
      "execution_count": 16,
      "outputs": []
    },
    {
      "cell_type": "code",
      "source": [
        "def fun(n):\n",
        "  if n<8:\n",
        "    return \"LT8\"\n",
        "  else:\n",
        "    return \"GT8\"\n",
        "df['g']=df['f'].apply(fun)\n",
        "df"
      ],
      "metadata": {
        "colab": {
          "base_uri": "https://localhost:8080/",
          "height": 676
        },
        "id": "j1oYYQk-mj6m",
        "outputId": "4492699e-2f50-4cc7-f188-8ab8ca72a7d8"
      },
      "execution_count": 17,
      "outputs": [
        {
          "output_type": "execute_result",
          "data": {
            "text/plain": [
              "     a   b   c   d   e   f    g\n",
              "0    9  19  10   1   3  42  GT8\n",
              "1    2  12   3   5   4  26  GT8\n",
              "2   12  17   6   7   1  43  GT8\n",
              "3   12  12  11  13   6  54  GT8\n",
              "4    5   6  12  15   7  45  GT8\n",
              "5   15   9  13  18  18  73  GT8\n",
              "6    6  17  14  10  17  64  GT8\n",
              "7   19   3  17  10   4  53  GT8\n",
              "8   15   1   5   6   3  30  GT8\n",
              "9   19  17   6   1  15  58  GT8\n",
              "10  13  17  19   2   7  58  GT8\n",
              "11  17  13  18   9   5  62  GT8\n",
              "12  17  12  10  19   5  63  GT8\n",
              "13   5  16  10   2  16  49  GT8\n",
              "14   8   5   4   6   1  24  GT8\n",
              "15  15   2   8   6   5  36  GT8\n",
              "16   6  15   2  19   1  43  GT8\n",
              "17   6   9   1   1   2  19  GT8\n",
              "18  12   1   4   7  13  37  GT8\n",
              "19  17  13   5  18   1  54  GT8"
            ],
            "text/html": [
              "\n",
              "  <div id=\"df-619f5c04-e4d4-4964-a6a6-ade2f36c1d27\" class=\"colab-df-container\">\n",
              "    <div>\n",
              "<style scoped>\n",
              "    .dataframe tbody tr th:only-of-type {\n",
              "        vertical-align: middle;\n",
              "    }\n",
              "\n",
              "    .dataframe tbody tr th {\n",
              "        vertical-align: top;\n",
              "    }\n",
              "\n",
              "    .dataframe thead th {\n",
              "        text-align: right;\n",
              "    }\n",
              "</style>\n",
              "<table border=\"1\" class=\"dataframe\">\n",
              "  <thead>\n",
              "    <tr style=\"text-align: right;\">\n",
              "      <th></th>\n",
              "      <th>a</th>\n",
              "      <th>b</th>\n",
              "      <th>c</th>\n",
              "      <th>d</th>\n",
              "      <th>e</th>\n",
              "      <th>f</th>\n",
              "      <th>g</th>\n",
              "    </tr>\n",
              "  </thead>\n",
              "  <tbody>\n",
              "    <tr>\n",
              "      <th>0</th>\n",
              "      <td>9</td>\n",
              "      <td>19</td>\n",
              "      <td>10</td>\n",
              "      <td>1</td>\n",
              "      <td>3</td>\n",
              "      <td>42</td>\n",
              "      <td>GT8</td>\n",
              "    </tr>\n",
              "    <tr>\n",
              "      <th>1</th>\n",
              "      <td>2</td>\n",
              "      <td>12</td>\n",
              "      <td>3</td>\n",
              "      <td>5</td>\n",
              "      <td>4</td>\n",
              "      <td>26</td>\n",
              "      <td>GT8</td>\n",
              "    </tr>\n",
              "    <tr>\n",
              "      <th>2</th>\n",
              "      <td>12</td>\n",
              "      <td>17</td>\n",
              "      <td>6</td>\n",
              "      <td>7</td>\n",
              "      <td>1</td>\n",
              "      <td>43</td>\n",
              "      <td>GT8</td>\n",
              "    </tr>\n",
              "    <tr>\n",
              "      <th>3</th>\n",
              "      <td>12</td>\n",
              "      <td>12</td>\n",
              "      <td>11</td>\n",
              "      <td>13</td>\n",
              "      <td>6</td>\n",
              "      <td>54</td>\n",
              "      <td>GT8</td>\n",
              "    </tr>\n",
              "    <tr>\n",
              "      <th>4</th>\n",
              "      <td>5</td>\n",
              "      <td>6</td>\n",
              "      <td>12</td>\n",
              "      <td>15</td>\n",
              "      <td>7</td>\n",
              "      <td>45</td>\n",
              "      <td>GT8</td>\n",
              "    </tr>\n",
              "    <tr>\n",
              "      <th>5</th>\n",
              "      <td>15</td>\n",
              "      <td>9</td>\n",
              "      <td>13</td>\n",
              "      <td>18</td>\n",
              "      <td>18</td>\n",
              "      <td>73</td>\n",
              "      <td>GT8</td>\n",
              "    </tr>\n",
              "    <tr>\n",
              "      <th>6</th>\n",
              "      <td>6</td>\n",
              "      <td>17</td>\n",
              "      <td>14</td>\n",
              "      <td>10</td>\n",
              "      <td>17</td>\n",
              "      <td>64</td>\n",
              "      <td>GT8</td>\n",
              "    </tr>\n",
              "    <tr>\n",
              "      <th>7</th>\n",
              "      <td>19</td>\n",
              "      <td>3</td>\n",
              "      <td>17</td>\n",
              "      <td>10</td>\n",
              "      <td>4</td>\n",
              "      <td>53</td>\n",
              "      <td>GT8</td>\n",
              "    </tr>\n",
              "    <tr>\n",
              "      <th>8</th>\n",
              "      <td>15</td>\n",
              "      <td>1</td>\n",
              "      <td>5</td>\n",
              "      <td>6</td>\n",
              "      <td>3</td>\n",
              "      <td>30</td>\n",
              "      <td>GT8</td>\n",
              "    </tr>\n",
              "    <tr>\n",
              "      <th>9</th>\n",
              "      <td>19</td>\n",
              "      <td>17</td>\n",
              "      <td>6</td>\n",
              "      <td>1</td>\n",
              "      <td>15</td>\n",
              "      <td>58</td>\n",
              "      <td>GT8</td>\n",
              "    </tr>\n",
              "    <tr>\n",
              "      <th>10</th>\n",
              "      <td>13</td>\n",
              "      <td>17</td>\n",
              "      <td>19</td>\n",
              "      <td>2</td>\n",
              "      <td>7</td>\n",
              "      <td>58</td>\n",
              "      <td>GT8</td>\n",
              "    </tr>\n",
              "    <tr>\n",
              "      <th>11</th>\n",
              "      <td>17</td>\n",
              "      <td>13</td>\n",
              "      <td>18</td>\n",
              "      <td>9</td>\n",
              "      <td>5</td>\n",
              "      <td>62</td>\n",
              "      <td>GT8</td>\n",
              "    </tr>\n",
              "    <tr>\n",
              "      <th>12</th>\n",
              "      <td>17</td>\n",
              "      <td>12</td>\n",
              "      <td>10</td>\n",
              "      <td>19</td>\n",
              "      <td>5</td>\n",
              "      <td>63</td>\n",
              "      <td>GT8</td>\n",
              "    </tr>\n",
              "    <tr>\n",
              "      <th>13</th>\n",
              "      <td>5</td>\n",
              "      <td>16</td>\n",
              "      <td>10</td>\n",
              "      <td>2</td>\n",
              "      <td>16</td>\n",
              "      <td>49</td>\n",
              "      <td>GT8</td>\n",
              "    </tr>\n",
              "    <tr>\n",
              "      <th>14</th>\n",
              "      <td>8</td>\n",
              "      <td>5</td>\n",
              "      <td>4</td>\n",
              "      <td>6</td>\n",
              "      <td>1</td>\n",
              "      <td>24</td>\n",
              "      <td>GT8</td>\n",
              "    </tr>\n",
              "    <tr>\n",
              "      <th>15</th>\n",
              "      <td>15</td>\n",
              "      <td>2</td>\n",
              "      <td>8</td>\n",
              "      <td>6</td>\n",
              "      <td>5</td>\n",
              "      <td>36</td>\n",
              "      <td>GT8</td>\n",
              "    </tr>\n",
              "    <tr>\n",
              "      <th>16</th>\n",
              "      <td>6</td>\n",
              "      <td>15</td>\n",
              "      <td>2</td>\n",
              "      <td>19</td>\n",
              "      <td>1</td>\n",
              "      <td>43</td>\n",
              "      <td>GT8</td>\n",
              "    </tr>\n",
              "    <tr>\n",
              "      <th>17</th>\n",
              "      <td>6</td>\n",
              "      <td>9</td>\n",
              "      <td>1</td>\n",
              "      <td>1</td>\n",
              "      <td>2</td>\n",
              "      <td>19</td>\n",
              "      <td>GT8</td>\n",
              "    </tr>\n",
              "    <tr>\n",
              "      <th>18</th>\n",
              "      <td>12</td>\n",
              "      <td>1</td>\n",
              "      <td>4</td>\n",
              "      <td>7</td>\n",
              "      <td>13</td>\n",
              "      <td>37</td>\n",
              "      <td>GT8</td>\n",
              "    </tr>\n",
              "    <tr>\n",
              "      <th>19</th>\n",
              "      <td>17</td>\n",
              "      <td>13</td>\n",
              "      <td>5</td>\n",
              "      <td>18</td>\n",
              "      <td>1</td>\n",
              "      <td>54</td>\n",
              "      <td>GT8</td>\n",
              "    </tr>\n",
              "  </tbody>\n",
              "</table>\n",
              "</div>\n",
              "    <div class=\"colab-df-buttons\">\n",
              "\n",
              "  <div class=\"colab-df-container\">\n",
              "    <button class=\"colab-df-convert\" onclick=\"convertToInteractive('df-619f5c04-e4d4-4964-a6a6-ade2f36c1d27')\"\n",
              "            title=\"Convert this dataframe to an interactive table.\"\n",
              "            style=\"display:none;\">\n",
              "\n",
              "  <svg xmlns=\"http://www.w3.org/2000/svg\" height=\"24px\" viewBox=\"0 -960 960 960\">\n",
              "    <path d=\"M120-120v-720h720v720H120Zm60-500h600v-160H180v160Zm220 220h160v-160H400v160Zm0 220h160v-160H400v160ZM180-400h160v-160H180v160Zm440 0h160v-160H620v160ZM180-180h160v-160H180v160Zm440 0h160v-160H620v160Z\"/>\n",
              "  </svg>\n",
              "    </button>\n",
              "\n",
              "  <style>\n",
              "    .colab-df-container {\n",
              "      display:flex;\n",
              "      gap: 12px;\n",
              "    }\n",
              "\n",
              "    .colab-df-convert {\n",
              "      background-color: #E8F0FE;\n",
              "      border: none;\n",
              "      border-radius: 50%;\n",
              "      cursor: pointer;\n",
              "      display: none;\n",
              "      fill: #1967D2;\n",
              "      height: 32px;\n",
              "      padding: 0 0 0 0;\n",
              "      width: 32px;\n",
              "    }\n",
              "\n",
              "    .colab-df-convert:hover {\n",
              "      background-color: #E2EBFA;\n",
              "      box-shadow: 0px 1px 2px rgba(60, 64, 67, 0.3), 0px 1px 3px 1px rgba(60, 64, 67, 0.15);\n",
              "      fill: #174EA6;\n",
              "    }\n",
              "\n",
              "    .colab-df-buttons div {\n",
              "      margin-bottom: 4px;\n",
              "    }\n",
              "\n",
              "    [theme=dark] .colab-df-convert {\n",
              "      background-color: #3B4455;\n",
              "      fill: #D2E3FC;\n",
              "    }\n",
              "\n",
              "    [theme=dark] .colab-df-convert:hover {\n",
              "      background-color: #434B5C;\n",
              "      box-shadow: 0px 1px 3px 1px rgba(0, 0, 0, 0.15);\n",
              "      filter: drop-shadow(0px 1px 2px rgba(0, 0, 0, 0.3));\n",
              "      fill: #FFFFFF;\n",
              "    }\n",
              "  </style>\n",
              "\n",
              "    <script>\n",
              "      const buttonEl =\n",
              "        document.querySelector('#df-619f5c04-e4d4-4964-a6a6-ade2f36c1d27 button.colab-df-convert');\n",
              "      buttonEl.style.display =\n",
              "        google.colab.kernel.accessAllowed ? 'block' : 'none';\n",
              "\n",
              "      async function convertToInteractive(key) {\n",
              "        const element = document.querySelector('#df-619f5c04-e4d4-4964-a6a6-ade2f36c1d27');\n",
              "        const dataTable =\n",
              "          await google.colab.kernel.invokeFunction('convertToInteractive',\n",
              "                                                    [key], {});\n",
              "        if (!dataTable) return;\n",
              "\n",
              "        const docLinkHtml = 'Like what you see? Visit the ' +\n",
              "          '<a target=\"_blank\" href=https://colab.research.google.com/notebooks/data_table.ipynb>data table notebook</a>'\n",
              "          + ' to learn more about interactive tables.';\n",
              "        element.innerHTML = '';\n",
              "        dataTable['output_type'] = 'display_data';\n",
              "        await google.colab.output.renderOutput(dataTable, element);\n",
              "        const docLink = document.createElement('div');\n",
              "        docLink.innerHTML = docLinkHtml;\n",
              "        element.appendChild(docLink);\n",
              "      }\n",
              "    </script>\n",
              "  </div>\n",
              "\n",
              "\n",
              "    <div id=\"df-e91638f1-c756-496d-93f1-c77b8ea7d7a0\">\n",
              "      <button class=\"colab-df-quickchart\" onclick=\"quickchart('df-e91638f1-c756-496d-93f1-c77b8ea7d7a0')\"\n",
              "                title=\"Suggest charts\"\n",
              "                style=\"display:none;\">\n",
              "\n",
              "<svg xmlns=\"http://www.w3.org/2000/svg\" height=\"24px\"viewBox=\"0 0 24 24\"\n",
              "     width=\"24px\">\n",
              "    <g>\n",
              "        <path d=\"M19 3H5c-1.1 0-2 .9-2 2v14c0 1.1.9 2 2 2h14c1.1 0 2-.9 2-2V5c0-1.1-.9-2-2-2zM9 17H7v-7h2v7zm4 0h-2V7h2v10zm4 0h-2v-4h2v4z\"/>\n",
              "    </g>\n",
              "</svg>\n",
              "      </button>\n",
              "\n",
              "<style>\n",
              "  .colab-df-quickchart {\n",
              "      --bg-color: #E8F0FE;\n",
              "      --fill-color: #1967D2;\n",
              "      --hover-bg-color: #E2EBFA;\n",
              "      --hover-fill-color: #174EA6;\n",
              "      --disabled-fill-color: #AAA;\n",
              "      --disabled-bg-color: #DDD;\n",
              "  }\n",
              "\n",
              "  [theme=dark] .colab-df-quickchart {\n",
              "      --bg-color: #3B4455;\n",
              "      --fill-color: #D2E3FC;\n",
              "      --hover-bg-color: #434B5C;\n",
              "      --hover-fill-color: #FFFFFF;\n",
              "      --disabled-bg-color: #3B4455;\n",
              "      --disabled-fill-color: #666;\n",
              "  }\n",
              "\n",
              "  .colab-df-quickchart {\n",
              "    background-color: var(--bg-color);\n",
              "    border: none;\n",
              "    border-radius: 50%;\n",
              "    cursor: pointer;\n",
              "    display: none;\n",
              "    fill: var(--fill-color);\n",
              "    height: 32px;\n",
              "    padding: 0;\n",
              "    width: 32px;\n",
              "  }\n",
              "\n",
              "  .colab-df-quickchart:hover {\n",
              "    background-color: var(--hover-bg-color);\n",
              "    box-shadow: 0 1px 2px rgba(60, 64, 67, 0.3), 0 1px 3px 1px rgba(60, 64, 67, 0.15);\n",
              "    fill: var(--button-hover-fill-color);\n",
              "  }\n",
              "\n",
              "  .colab-df-quickchart-complete:disabled,\n",
              "  .colab-df-quickchart-complete:disabled:hover {\n",
              "    background-color: var(--disabled-bg-color);\n",
              "    fill: var(--disabled-fill-color);\n",
              "    box-shadow: none;\n",
              "  }\n",
              "\n",
              "  .colab-df-spinner {\n",
              "    border: 2px solid var(--fill-color);\n",
              "    border-color: transparent;\n",
              "    border-bottom-color: var(--fill-color);\n",
              "    animation:\n",
              "      spin 1s steps(1) infinite;\n",
              "  }\n",
              "\n",
              "  @keyframes spin {\n",
              "    0% {\n",
              "      border-color: transparent;\n",
              "      border-bottom-color: var(--fill-color);\n",
              "      border-left-color: var(--fill-color);\n",
              "    }\n",
              "    20% {\n",
              "      border-color: transparent;\n",
              "      border-left-color: var(--fill-color);\n",
              "      border-top-color: var(--fill-color);\n",
              "    }\n",
              "    30% {\n",
              "      border-color: transparent;\n",
              "      border-left-color: var(--fill-color);\n",
              "      border-top-color: var(--fill-color);\n",
              "      border-right-color: var(--fill-color);\n",
              "    }\n",
              "    40% {\n",
              "      border-color: transparent;\n",
              "      border-right-color: var(--fill-color);\n",
              "      border-top-color: var(--fill-color);\n",
              "    }\n",
              "    60% {\n",
              "      border-color: transparent;\n",
              "      border-right-color: var(--fill-color);\n",
              "    }\n",
              "    80% {\n",
              "      border-color: transparent;\n",
              "      border-right-color: var(--fill-color);\n",
              "      border-bottom-color: var(--fill-color);\n",
              "    }\n",
              "    90% {\n",
              "      border-color: transparent;\n",
              "      border-bottom-color: var(--fill-color);\n",
              "    }\n",
              "  }\n",
              "</style>\n",
              "\n",
              "      <script>\n",
              "        async function quickchart(key) {\n",
              "          const quickchartButtonEl =\n",
              "            document.querySelector('#' + key + ' button');\n",
              "          quickchartButtonEl.disabled = true;  // To prevent multiple clicks.\n",
              "          quickchartButtonEl.classList.add('colab-df-spinner');\n",
              "          try {\n",
              "            const charts = await google.colab.kernel.invokeFunction(\n",
              "                'suggestCharts', [key], {});\n",
              "          } catch (error) {\n",
              "            console.error('Error during call to suggestCharts:', error);\n",
              "          }\n",
              "          quickchartButtonEl.classList.remove('colab-df-spinner');\n",
              "          quickchartButtonEl.classList.add('colab-df-quickchart-complete');\n",
              "        }\n",
              "        (() => {\n",
              "          let quickchartButtonEl =\n",
              "            document.querySelector('#df-e91638f1-c756-496d-93f1-c77b8ea7d7a0 button');\n",
              "          quickchartButtonEl.style.display =\n",
              "            google.colab.kernel.accessAllowed ? 'block' : 'none';\n",
              "        })();\n",
              "      </script>\n",
              "    </div>\n",
              "\n",
              "  <div id=\"id_6b68b7da-0701-4ef1-b2e4-97d258683116\">\n",
              "    <style>\n",
              "      .colab-df-generate {\n",
              "        background-color: #E8F0FE;\n",
              "        border: none;\n",
              "        border-radius: 50%;\n",
              "        cursor: pointer;\n",
              "        display: none;\n",
              "        fill: #1967D2;\n",
              "        height: 32px;\n",
              "        padding: 0 0 0 0;\n",
              "        width: 32px;\n",
              "      }\n",
              "\n",
              "      .colab-df-generate:hover {\n",
              "        background-color: #E2EBFA;\n",
              "        box-shadow: 0px 1px 2px rgba(60, 64, 67, 0.3), 0px 1px 3px 1px rgba(60, 64, 67, 0.15);\n",
              "        fill: #174EA6;\n",
              "      }\n",
              "\n",
              "      [theme=dark] .colab-df-generate {\n",
              "        background-color: #3B4455;\n",
              "        fill: #D2E3FC;\n",
              "      }\n",
              "\n",
              "      [theme=dark] .colab-df-generate:hover {\n",
              "        background-color: #434B5C;\n",
              "        box-shadow: 0px 1px 3px 1px rgba(0, 0, 0, 0.15);\n",
              "        filter: drop-shadow(0px 1px 2px rgba(0, 0, 0, 0.3));\n",
              "        fill: #FFFFFF;\n",
              "      }\n",
              "    </style>\n",
              "    <button class=\"colab-df-generate\" onclick=\"generateWithVariable('df')\"\n",
              "            title=\"Generate code using this dataframe.\"\n",
              "            style=\"display:none;\">\n",
              "\n",
              "  <svg xmlns=\"http://www.w3.org/2000/svg\" height=\"24px\"viewBox=\"0 0 24 24\"\n",
              "       width=\"24px\">\n",
              "    <path d=\"M7,19H8.4L18.45,9,17,7.55,7,17.6ZM5,21V16.75L18.45,3.32a2,2,0,0,1,2.83,0l1.4,1.43a1.91,1.91,0,0,1,.58,1.4,1.91,1.91,0,0,1-.58,1.4L9.25,21ZM18.45,9,17,7.55Zm-12,3A5.31,5.31,0,0,0,4.9,8.1,5.31,5.31,0,0,0,1,6.5,5.31,5.31,0,0,0,4.9,4.9,5.31,5.31,0,0,0,6.5,1,5.31,5.31,0,0,0,8.1,4.9,5.31,5.31,0,0,0,12,6.5,5.46,5.46,0,0,0,6.5,12Z\"/>\n",
              "  </svg>\n",
              "    </button>\n",
              "    <script>\n",
              "      (() => {\n",
              "      const buttonEl =\n",
              "        document.querySelector('#id_6b68b7da-0701-4ef1-b2e4-97d258683116 button.colab-df-generate');\n",
              "      buttonEl.style.display =\n",
              "        google.colab.kernel.accessAllowed ? 'block' : 'none';\n",
              "\n",
              "      buttonEl.onclick = () => {\n",
              "        google.colab.notebook.generateWithVariable('df');\n",
              "      }\n",
              "      })();\n",
              "    </script>\n",
              "  </div>\n",
              "\n",
              "    </div>\n",
              "  </div>\n"
            ],
            "application/vnd.google.colaboratory.intrinsic+json": {
              "type": "dataframe",
              "variable_name": "df",
              "summary": "{\n  \"name\": \"df\",\n  \"rows\": 20,\n  \"fields\": [\n    {\n      \"column\": \"a\",\n      \"properties\": {\n        \"dtype\": \"number\",\n        \"std\": 5,\n        \"min\": 2,\n        \"max\": 19,\n        \"num_unique_values\": 10,\n        \"samples\": [\n          17,\n          2,\n          6\n        ],\n        \"semantic_type\": \"\",\n        \"description\": \"\"\n      }\n    },\n    {\n      \"column\": \"b\",\n      \"properties\": {\n        \"dtype\": \"number\",\n        \"std\": 5,\n        \"min\": 1,\n        \"max\": 19,\n        \"num_unique_values\": 12,\n        \"samples\": [\n          2,\n          5,\n          19\n        ],\n        \"semantic_type\": \"\",\n        \"description\": \"\"\n      }\n    },\n    {\n      \"column\": \"c\",\n      \"properties\": {\n        \"dtype\": \"number\",\n        \"std\": 5,\n        \"min\": 1,\n        \"max\": 19,\n        \"num_unique_values\": 15,\n        \"samples\": [\n          19,\n          4,\n          10\n        ],\n        \"semantic_type\": \"\",\n        \"description\": \"\"\n      }\n    },\n    {\n      \"column\": \"d\",\n      \"properties\": {\n        \"dtype\": \"number\",\n        \"std\": 6,\n        \"min\": 1,\n        \"max\": 19,\n        \"num_unique_values\": 11,\n        \"samples\": [\n          18,\n          1,\n          9\n        ],\n        \"semantic_type\": \"\",\n        \"description\": \"\"\n      }\n    },\n    {\n      \"column\": \"e\",\n      \"properties\": {\n        \"dtype\": \"number\",\n        \"std\": 5,\n        \"min\": 1,\n        \"max\": 18,\n        \"num_unique_values\": 12,\n        \"samples\": [\n          2,\n          16,\n          3\n        ],\n        \"semantic_type\": \"\",\n        \"description\": \"\"\n      }\n    },\n    {\n      \"column\": \"f\",\n      \"properties\": {\n        \"dtype\": \"number\",\n        \"std\": 14,\n        \"min\": 19,\n        \"max\": 73,\n        \"num_unique_values\": 17,\n        \"samples\": [\n          42,\n          26,\n          73\n        ],\n        \"semantic_type\": \"\",\n        \"description\": \"\"\n      }\n    },\n    {\n      \"column\": \"g\",\n      \"properties\": {\n        \"dtype\": \"category\",\n        \"num_unique_values\": 1,\n        \"samples\": [\n          \"GT8\"\n        ],\n        \"semantic_type\": \"\",\n        \"description\": \"\"\n      }\n    }\n  ]\n}"
            }
          },
          "metadata": {},
          "execution_count": 17
        }
      ]
    },
    {
      "cell_type": "code",
      "source": [
        "std = np.std(np.array(df['f']))"
      ],
      "metadata": {
        "colab": {
          "base_uri": "https://localhost:8080/"
        },
        "id": "JuZPhRAZm4we",
        "outputId": "56d23b32-7fef-4639-ef79-84076e653ad6"
      },
      "execution_count": 19,
      "outputs": [
        {
          "output_type": "execute_result",
          "data": {
            "text/plain": [
              "np.float64(14.402343559296174)"
            ]
          },
          "metadata": {},
          "execution_count": 19
        }
      ]
    },
    {
      "cell_type": "markdown",
      "source": [
        "Q12 Write a small piece of code to explain broadcasting in numpy."
      ],
      "metadata": {
        "id": "R7IRa3J4nPEv"
      }
    },
    {
      "cell_type": "markdown",
      "source": [
        "Broadcasting is a method in which 2 different type of arrays can be added to each other. For eg, we take an array [10,12,1,5] and [[1],[2],[10],[100]] they first get converted to 2d arrays like [[10,10,10,10],[12,12,12,12],[1,1,1,1],[5,5,5,5]] and [[1,1,1,1],[2,2,2,2],[10,10,10,10],[100,100,100,100]]  and then get added"
      ],
      "metadata": {
        "id": "4ewYrVmXnP-g"
      }
    },
    {
      "cell_type": "code",
      "source": [
        "import numpy as np"
      ],
      "metadata": {
        "id": "6F7pK1YXn9-F"
      },
      "execution_count": 20,
      "outputs": []
    },
    {
      "cell_type": "code",
      "source": [
        "a=np.array([10,12,1,5])\n",
        "b=np.array([[1],[2],[10],[100]])\n",
        "print(a+b)"
      ],
      "metadata": {
        "colab": {
          "base_uri": "https://localhost:8080/"
        },
        "id": "ZyR1AMf5n_h_",
        "outputId": "279aa3b7-f4b0-4564-dd37-e4bb6201e7b7"
      },
      "execution_count": 21,
      "outputs": [
        {
          "output_type": "stream",
          "name": "stdout",
          "text": [
            "[[ 11  13   2   6]\n",
            " [ 12  14   3   7]\n",
            " [ 20  22  11  15]\n",
            " [110 112 101 105]]\n"
          ]
        }
      ]
    },
    {
      "cell_type": "markdown",
      "source": [
        "Q13 Write a function to compute the argmin of a numpy array. The function should take a numpy array as input and return the index of the minimum element. You can use the np.argmin function to verify your solution."
      ],
      "metadata": {
        "id": "deGnu8LFoKQd"
      }
    },
    {
      "cell_type": "code",
      "source": [
        "def funargmin(l):\n",
        "  flat=l.flatten()\n",
        "  mn=flat[0]\n",
        "  argmin=0\n",
        "  for i in range(1,len(flat)):\n",
        "    if flat[i]<mn:\n",
        "      mn=flat[i]\n",
        "      argmin=i\n",
        "  return argmin"
      ],
      "metadata": {
        "id": "bdSZUWVfoM9m"
      },
      "execution_count": 22,
      "outputs": []
    },
    {
      "cell_type": "code",
      "source": [
        "arr=np.array([2,3,10,-10,100,100])\n",
        "print(funargmin(arr))\n",
        "print(np.argmin(arr))"
      ],
      "metadata": {
        "colab": {
          "base_uri": "https://localhost:8080/"
        },
        "id": "KZqjvg3jok1a",
        "outputId": "7b84c24f-aec4-4e8e-f8c6-2fb7e64a605a"
      },
      "execution_count": 24,
      "outputs": [
        {
          "output_type": "stream",
          "name": "stdout",
          "text": [
            "3\n",
            "3\n"
          ]
        }
      ]
    }
  ]
}